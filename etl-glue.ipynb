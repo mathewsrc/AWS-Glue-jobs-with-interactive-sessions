{
 "cells": [
  {
   "cell_type": "markdown",
   "metadata": {},
   "source": [
    "1. poetry add aws-glue-sessions\n",
    "2. Run install-glue-kernel on Terminal\n",
    "3. Install awsglue library: poetry add git+https://github.com/awslabs/aws-glue-libs.git\n",
    "3. Run notebook jupyter\n",
    "4. Copy the URL from running Jupyter\n",
    "5. Open kernels -> Select Another Kernel -> Existing Jupyter Server\n",
    "4. Select Glue Spark kernel\n",
    "5. Settings -> jupyter disable auto start\n",
    "6. Create a IAM Role for Glue with the policy: AwsGlueSessionUserRestrictedNotebookServiceRole or AWSGlueServiceRole \n",
    "7. Create credentials and save it at ~/.aws/credentials as following\n",
    "    ```\n",
    "    [default]\n",
    "    aws_access_key_id = TEXT_HERE\n",
    "    aws_secret_access_key = TEXT_HERE\n",
    "    glue_iam_role=arn:aws:iam::<ACCOUNT_ID>:role/glue-interative-sessions-role\n",
    "    session_id_prefix=etl-glue\n",
    "    ```\n",
    "\n",
    "8. Create a config file at ~/.aws/config and enter the following info\n",
    "    ```\n",
    "    [default]\n",
    "    region = us-east-2\n",
    "    ```\n",
    "9. Create a new bucket to store raw data and upload data (s3://{BUCKET_NAME}{inputs})\n",
    "10. Create a policy for Glue read data from S3 inputs folder \n",
    "\n",
    "Links:\n",
    "https://docs.aws.amazon.com/glue/latest/dg/aws-glue-programming-intro-tutorial.html\n",
    "https://github.com/awslabs/aws-glue-libs"
   ]
  },
  {
   "cell_type": "markdown",
   "metadata": {},
   "source": [
    "**Policy for Glue access Bikes bucket**\n",
    "\n",
    "```{\n",
    "\t\"Version\": \"2012-10-17\",\n",
    "\t\"Statement\": [\n",
    "\t\t{\n",
    "\t\t\t\"Sid\": \"VisualEditor0\",\n",
    "\t\t\t\"Effect\": \"Allow\",\n",
    "\t\t\t\"Action\": [\n",
    "\t\t\t\t\"s3:PutObject\",\n",
    "\t\t\t\t\"s3:GetObject\",\n",
    "\t\t\t\t\"s3:UntagResource\",\n",
    "\t\t\t\t\"s3:TagResource\",\n",
    "\t\t\t\t\"s3:CreateBucket\",\n",
    "\t\t\t\t\"s3:ListBucket\",\n",
    "\t\t\t\t\"s3:DeleteObject\",\n",
    "\t\t\t\t\"s3:DeleteBucket\"\n",
    "\t\t\t],\n",
    "\t\t\t\"Resource\": \"arn:aws:s3:::{BUCKET_NAME}/*\"\n",
    "\t\t}\n",
    "\t]\n",
    "}\n",
    "```"
   ]
  },
  {
   "cell_type": "code",
   "execution_count": 85,
   "metadata": {
    "vscode": {
     "languageId": "python"
    }
   },
   "outputs": [
    {
     "name": "stdout",
     "output_type": "stream",
     "text": [
      "Setting session ID prefix to etl-bikes\n"
     ]
    },
    {
     "name": "stderr",
     "output_type": "stream",
     "text": [
      "You are already connected to a glueetl session etl-bikes-6fd446c9-db07-4d34-a6c7-2f68ea3333a4.\n",
      "\n",
      "No change will be made to the current session that is set as glueetl. The session configuration change will apply to newly created sessions.\n"
     ]
    },
    {
     "name": "stdout",
     "output_type": "stream",
     "text": [
      "Current iam_role is arn:aws:iam::078090784717:role/glue-interative-sessions-role\n",
      "iam_role has been set to arn:aws:iam::078090784717:role/glue-interative-sessions-role.\n"
     ]
    },
    {
     "name": "stderr",
     "output_type": "stream",
     "text": [
      "You are already connected to a glueetl session etl-bikes-6fd446c9-db07-4d34-a6c7-2f68ea3333a4.\n",
      "\n",
      "No change will be made to the current session that is set as glueetl. The session configuration change will apply to newly created sessions.\n"
     ]
    },
    {
     "name": "stdout",
     "output_type": "stream",
     "text": [
      "Previous region: us-east-1\n",
      "Setting new region to: us-east-1\n",
      "Region is set to: us-east-1\n"
     ]
    },
    {
     "name": "stderr",
     "output_type": "stream",
     "text": [
      "You are already connected to a glueetl session etl-bikes-6fd446c9-db07-4d34-a6c7-2f68ea3333a4.\n",
      "\n",
      "No change will be made to the current session that is set as glueetl. The session configuration change will apply to newly created sessions.\n"
     ]
    },
    {
     "name": "stdout",
     "output_type": "stream",
     "text": [
      "Setting Glue version to: 4.0\n"
     ]
    },
    {
     "name": "stderr",
     "output_type": "stream",
     "text": [
      "You are already connected to a glueetl session etl-bikes-6fd446c9-db07-4d34-a6c7-2f68ea3333a4.\n",
      "\n",
      "No change will be made to the current session that is set as glueetl. The session configuration change will apply to newly created sessions.\n"
     ]
    },
    {
     "name": "stdout",
     "output_type": "stream",
     "text": [
      "Current idle_timeout is 15 minutes.\n",
      "idle_timeout has been set to 15 minutes.\n"
     ]
    },
    {
     "name": "stderr",
     "output_type": "stream",
     "text": [
      "You are already connected to a glueetl session etl-bikes-6fd446c9-db07-4d34-a6c7-2f68ea3333a4.\n",
      "\n",
      "No change will be made to the current session that is set as glueetl. The session configuration change will apply to newly created sessions.\n"
     ]
    },
    {
     "name": "stdout",
     "output_type": "stream",
     "text": [
      "Previous worker type: G.1X\n",
      "Setting new worker type to: G.1X\n"
     ]
    },
    {
     "name": "stderr",
     "output_type": "stream",
     "text": [
      "You are already connected to a glueetl session etl-bikes-6fd446c9-db07-4d34-a6c7-2f68ea3333a4.\n",
      "\n",
      "No change will be made to the current session that is set as glueetl. The session configuration change will apply to newly created sessions.\n"
     ]
    },
    {
     "name": "stdout",
     "output_type": "stream",
     "text": [
      "Previous number of workers: 2\n",
      "Setting new number of workers to: 2\n"
     ]
    },
    {
     "name": "stderr",
     "output_type": "stream",
     "text": [
      "You are already connected to a glueetl session etl-bikes-6fd446c9-db07-4d34-a6c7-2f68ea3333a4.\n",
      "\n",
      "No change will be made to the current session that is set as glueetl. The session configuration change will apply to newly created sessions.\n"
     ]
    },
    {
     "name": "stdout",
     "output_type": "stream",
     "text": [
      "The following configurations have been updated: {'max_retries': '0'}\n"
     ]
    }
   ],
   "source": [
    "%session_id_prefix etl-bikes\n",
    "%iam_role arn:aws:iam::078090784717:role/glue-interative-sessions-role \n",
    "%region us-east-1\n",
    "%glue_version 4.0\n",
    "%idle_timeout 15\n",
    "%worker_type G.1X\n",
    "%number_of_workers 2\n",
    "%%configure\n",
    "{\n",
    "  \"max_retries\": \"0\" # The number of times to retry the job in case of a failure.\n",
    "# \"max_concurrent_runs\": \"3\" # The maximum number of concurrent runs allowed for a job.\n",
    "# \"script_location\": \"s3://new-folder-here\" # The Amazon S3 path to a script that executes a job.\n",
    "#  \"--extra-files\": \"s3://path/to/additional/files/\" # The Amazon S3 paths to additional files, such as configuration files that AWS Glue copies to the working directory of your script before executing it.\n",
    "#  \"--enable-glue-datacatalog\": \"true\"  # Enables you to use the AWS Glue Data Catalog as an Apache Spark Hive metastore.\n",
    "#  \"--enable-metrics\": \"false\" # Enables the collection of metrics for the job.\n",
    "#  \"--enable-continuous-cloudwatch-log\": \"true\" # Enables the continuous logging of the job.\n",
    "#  \"timeout\": \"30\" # Determines the maximum amount of time that the Spark session should wait for a statement to complete before terminating it.\n",
    "#  \"--enable-auto-scaling\": \"true\"  # Determines whether or not to use auto-scaling.\n",
    "}  "
   ]
  },
  {
   "cell_type": "code",
   "execution_count": 87,
   "metadata": {
    "vscode": {
     "languageId": "python"
    }
   },
   "outputs": [
    {
     "name": "stderr",
     "output_type": "stream",
     "text": [
      "You are already connected to a glueetl session etl-bikes-6fd446c9-db07-4d34-a6c7-2f68ea3333a4.\n",
      "\n",
      "No change will be made to the current session that is set as glueetl. The session configuration change will apply to newly created sessions.\n"
     ]
    },
    {
     "name": "stdout",
     "output_type": "stream",
     "text": [
      "Additional python modules to be included:\n",
      "typing-extensions\n",
      "typing-inspect\n",
      "pydantic\n",
      "boto3\n",
      "botocore\n",
      "polars\n",
      "awswrangler\n",
      "pyathena\n"
     ]
    }
   ],
   "source": [
    "%additional_python_modules  typing-extensions, typing-inspect, pydantic, boto3, botocore, polars, awswrangler, pyathena\n"
   ]
  },
  {
   "cell_type": "code",
   "execution_count": 88,
   "metadata": {
    "vscode": {
     "languageId": "python"
    }
   },
   "outputs": [],
   "source": [
    "#%etl # Changes the session type to AWS Glue ETL.\n",
    "#%extra_py_files # Comma separated list of additional Python files from Amazon S3.\n",
    "#%%sql # Run SQL queries\n",
    "#%matplot # Display Matplotlib plots"
   ]
  },
  {
   "cell_type": "code",
   "execution_count": 25,
   "metadata": {
    "vscode": {
     "languageId": "python"
    }
   },
   "outputs": [
    {
     "name": "stdout",
     "output_type": "stream",
     "text": [
      "\n"
     ]
    }
   ],
   "source": [
    "import boto3\n",
    "from awsglue.transforms import *\n",
    "from awsglue.utils import getResolvedOptions\n",
    "from pyspark.context import SparkContext\n",
    "from awsglue.context import GlueContext\n",
    "from awsglue.job import Job\n",
    "import sys\n",
    "\n",
    "sc = SparkContext.getOrCreate()\n",
    "glueContext = GlueContext(sc)\n",
    "spark = glueContext.spark_session\n",
    "job = Job(glueContext)\n",
    "\n",
    "#args = getResolvedOptions(sys.argv, [\"JOB_NAME\"])\n",
    "job.init('Bikes-ETL')"
   ]
  },
  {
   "cell_type": "code",
   "execution_count": 90,
   "metadata": {
    "vscode": {
     "languageId": "python"
    }
   },
   "outputs": [
    {
     "name": "stdout",
     "output_type": "stream",
     "text": [
      "Session ID: etl-bikes-6fd446c9-db07-4d34-a6c7-2f68ea3333a4\n",
      "Status: READY\n",
      "Role: arn:aws:iam::078090784717:role/glue-interative-sessions-role\n",
      "CreatedOn: 2024-09-29 18:41:16.712000+00:00\n",
      "GlueVersion: 4.0\n",
      "Session Type: glueetl\n",
      "Idle Timeout: 15\n",
      "Timeout: 2880\n",
      "Tags: {'owner': 'AIDARELUSZ7G54LO3PEET'}\n",
      "Worker Type: G.1X\n",
      "Number of Workers: 2\n",
      "Region: us-east-1\n",
      "Applying the following default arguments:\n",
      "--glue_kernel_version 1.0.7\n",
      "--enable-glue-datacatalog true\n",
      "--max_retries 0\n",
      "--additional-python-modules typing-extensions,typing-inspect,pydantic,boto3,botocore,polars,awswrangler,pyathena\n",
      "Arguments Passed: ['--glue_kernel_version: 1.0.7', '--enable-glue-datacatalog: true', '--max_retries: 0', '--additional-python-modules: typing-extensions,typing-inspect,pydantic,boto3,botocore,polars,awswrangler,pyathena']\n"
     ]
    }
   ],
   "source": [
    "%status"
   ]
  },
  {
   "cell_type": "markdown",
   "metadata": {},
   "source": [
    "### Create a Glue Catalog from S3 csv files\n",
    "\n",
    "https://docs.aws.amazon.com/glue/latest/dg/start-data-catalog.html"
   ]
  },
  {
   "cell_type": "code",
   "execution_count": 26,
   "metadata": {
    "vscode": {
     "languageId": "python"
    }
   },
   "outputs": [
    {
     "name": "stdout",
     "output_type": "stream",
     "text": [
      "/opt/amazon/spark/python/lib/pyspark.zip/pyspark/sql/pandas/conversion.py:474: FutureWarning: iteritems is deprecated and will be removed in a future version. Use .items instead.\n",
      "/opt/amazon/spark/python/lib/pyspark.zip/pyspark/sql/pandas/conversion.py:486: FutureWarning: iteritems is deprecated and will be removed in a future version. Use .items instead.\n"
     ]
    }
   ],
   "source": [
    "database_name = \"bikes_catalog\"\n",
    "table_name = \"bikes_table\"\n",
    "\n",
    "glue_client = boto3.client('glue')\n",
    "\n",
    "def load_data_from_s3_as_DF(bucket_name, prefix,  key):\n",
    "    import awswrangler as wr\n",
    "    import polars as pl\n",
    "    from awsglue.dynamicframe import DynamicFrame\n",
    "    \n",
    "    session = boto3.Session()\n",
    "    df_pandas = wr.s3.read_csv(f\"s3://{bucket_name}/{prefix}/{key}\",\n",
    "                          boto3_session=session)\n",
    "    df_spark = spark.createDataFrame(pl.from_pandas(df_pandas).to_pandas())\n",
    "    return DynamicFrame.fromDF(df_spark, glueContext)\n",
    "\n",
    "def database_exists(database_name):\n",
    "    try:\n",
    "        glue_client.get_database(Name=database_name)\n",
    "        return True\n",
    "    except glue_client.exceptions.EntityNotFoundException:\n",
    "        return False\n",
    "    \n",
    "if not database_exists(database_name):\n",
    "    glue_client.create_database(\n",
    "        DatabaseInput={\n",
    "            'Name': database_name,\n",
    "            'Description': 'Database for bike data'\n",
    "        }\n",
    "    )\n",
    "    \n",
    "def add_table(database_name, table_name, dynamic_frame):\n",
    "    glue_client.create_table(\n",
    "        DatabaseName=database_name,\n",
    "        TableInput={\n",
    "            'Name': table_name,\n",
    "            'StorageDescriptor': {\n",
    "                'Columns': [\n",
    "                    {\n",
    "                        'Name': field.name,\n",
    "                        'Type': field.dataType.typeName()\n",
    "                    }\n",
    "                    for field in dynamic_frame.schema().fields\n",
    "                ],\n",
    "                'Location': f\"s3://bikes-glue/inputs/\", \n",
    "                'Parameters': {\n",
    "                    'EXTERNAL': 'TRUE',\n",
    "                    'classification': 'csv',\n",
    "                    'columnsOrdered': 'true',\n",
    "                    'compressionType': 'none',\n",
    "                    'delimiter': ',',\n",
    "                    'skip.header.line.count': '1',\n",
    "                    'typeOfData': 'file'\n",
    "                }\n",
    "            }\n",
    "        }   \n",
    "    )\n",
    "    \n",
    "def table_exists(database_name, table_name):\n",
    "    try:\n",
    "        glue_client.get_table(DatabaseName=database_name, Name=table_name)\n",
    "        return True\n",
    "    except glue_client.exceptions.EntityNotFoundException:\n",
    "        return False\n",
    "    \n",
    "tables = ['202406-divvy-tripdata']\n",
    "for table_name in tables:\n",
    "    if not table_exists(database_name, table_name):\n",
    "        dynamic_frame = load_data_from_s3_as_DF(\"bikes-glue\", \"inputs\", f\"{table_name}.csv\")\n",
    "        add_table(database_name, table_name, dynamic_frame)"
   ]
  },
  {
   "cell_type": "markdown",
   "metadata": {},
   "source": [
    "### Extract data from a source"
   ]
  },
  {
   "cell_type": "code",
   "execution_count": 27,
   "metadata": {
    "vscode": {
     "languageId": "python"
    }
   },
   "outputs": [
    {
     "name": "stdout",
     "output_type": "stream",
     "text": [
      "\n"
     ]
    }
   ],
   "source": [
    "def extract(table_name):\n",
    "    # connect to tables in the AWS Glue Data Catalog\n",
    "    S3bucket_node1 = glueContext.create_dynamic_frame.from_catalog(\n",
    "        database=database_name, \n",
    "        table_name=table_name, \n",
    "        transformation_ctx=\"S3bucket_node1\" # support job bookmarks\n",
    "    )\n",
    "    return S3bucket_node1\n"
   ]
  },
  {
   "cell_type": "markdown",
   "metadata": {},
   "source": [
    "### Transform data with AWS Glue"
   ]
  },
  {
   "cell_type": "code",
   "execution_count": 28,
   "metadata": {
    "vscode": {
     "languageId": "python"
    }
   },
   "outputs": [
    {
     "name": "stdout",
     "output_type": "stream",
     "text": [
      "\n"
     ]
    }
   ],
   "source": [
    "def transform(frame):\n",
    "    ApplyMapping_node2 = ApplyMapping.apply(\n",
    "        frame=frame,\n",
    "        mappings=[\n",
    "            (\"ride_id\", \"string\", \"ride_id\", \"string\"),\n",
    "            (\"rideable_type\", \"string\", \"rideable_type\", \"string\"),\n",
    "            (\"started_at\", \"string\", \"started_at\", \"timestamp\"),\n",
    "            (\"ended_at\", \"string\", \"ended_at\", \"timestamp\"),\n",
    "            (\"start_station_name\", \"string\", \"start_station_name\", \"string\"),\n",
    "            (\"start_station_id\", \"int\", \"start_station_id\", \"string\"),\n",
    "            (\"end_station_name\", \"string\", \"end_station_name\", \"string\"),\n",
    "            (\"end_station_id\", \"int\", \"end_station_id\", \"string\"),\n",
    "            (\"start_lat\", \"double\", \"start_lat\", \"double\"),\n",
    "            (\"start_lng\", \"double\", \"start_lng\", \"double\"),\n",
    "            (\"end_lat\", \"double\", \"end_lat\", \"double\"),\n",
    "            (\"end_lng\", \"double\", \"end_lng\", \"double\"),\n",
    "            (\"member_casual\", \"string\", \"member\", \"string\"),\n",
    "        ],\n",
    "        transformation_ctx=\"ApplyMapping_node2\",\n",
    "    )\n",
    "    return ApplyMapping_node2"
   ]
  },
  {
   "cell_type": "markdown",
   "metadata": {},
   "source": [
    "### Load data into a target"
   ]
  },
  {
   "cell_type": "code",
   "execution_count": 32,
   "metadata": {
    "vscode": {
     "languageId": "python"
    }
   },
   "outputs": [
    {
     "name": "stdout",
     "output_type": "stream",
     "text": [
      "\n"
     ]
    }
   ],
   "source": [
    "def load(frame, output_dir=\"s3://aws-glue-transformed/\"):\n",
    "    \n",
    "    # if bucket does not exist, create it\n",
    "    bucket_name = output_dir.split(\"/\")[2]\n",
    "    s3 = boto3.resource('s3')\n",
    "    if bucket_name not in [bucket.name for bucket in s3.buckets.all()]:\n",
    "        s3.create_bucket(Bucket=bucket_name)\n",
    "    \n",
    "    S3bucket_node3 = glueContext.write_dynamic_frame.from_options(\n",
    "        frame=frame,\n",
    "        connection_type=\"s3\",\n",
    "        format=\"glueparquet\",\n",
    "        connection_options={\"path\": output_dir, \"partitionKeys\": []},\n",
    "        format_options={\"compression\": \"gzip\"},\n",
    "        transformation_ctx=\"S3bucket_node3\",\n",
    "    )\n",
    "    return S3bucket_node3"
   ]
  },
  {
   "cell_type": "markdown",
   "metadata": {},
   "source": [
    "### Execute ETL with Glue"
   ]
  },
  {
   "cell_type": "code",
   "execution_count": 33,
   "metadata": {
    "vscode": {
     "languageId": "python"
    }
   },
   "outputs": [
    {
     "name": "stdout",
     "output_type": "stream",
     "text": [
      "root\n"
     ]
    }
   ],
   "source": [
    "frame = extract(\"202406-divvy-tripdata\")\n",
    "frame = transform(frame)\n",
    "frame = load(frame)\n",
    "frame.printSchema()"
   ]
  },
  {
   "cell_type": "markdown",
   "metadata": {},
   "source": [
    "Manually conclude job lifecycle "
   ]
  },
  {
   "cell_type": "code",
   "execution_count": 30,
   "metadata": {
    "vscode": {
     "languageId": "python"
    }
   },
   "outputs": [
    {
     "name": "stdout",
     "output_type": "stream",
     "text": [
      "\n"
     ]
    }
   ],
   "source": [
    "job.commit()"
   ]
  },
  {
   "cell_type": "markdown",
   "metadata": {},
   "source": [
    "Manually stop Glue Sessions"
   ]
  },
  {
   "cell_type": "code",
   "execution_count": 92,
   "metadata": {
    "vscode": {
     "languageId": "python"
    }
   },
   "outputs": [
    {
     "name": "stdout",
     "output_type": "stream",
     "text": [
      "Stopping session: etl-bikes-6fd446c9-db07-4d34-a6c7-2f68ea3333a4\n",
      "Stopped session.\n"
     ]
    }
   ],
   "source": [
    "%stop_session"
   ]
  }
 ],
 "metadata": {
  "kernelspec": {
   "display_name": "Glue PySpark",
   "language": "python",
   "name": "glue_pyspark"
  },
  "language_info": {
   "codemirror_mode": {
    "name": "python",
    "version": 3
   },
   "file_extension": ".py",
   "mimetype": "text/x-python",
   "name": "Python_Glue_Session",
   "pygments_lexer": "python3"
  }
 },
 "nbformat": 4,
 "nbformat_minor": 4
}
